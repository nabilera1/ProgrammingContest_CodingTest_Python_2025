{
 "cells": [
  {
   "cell_type": "code",
   "execution_count": null,
   "id": "initial_id",
   "metadata": {
    "collapsed": true
   },
   "outputs": [],
   "source": [
    "(수업 순서)\n",
    "\n",
    "위키독스 스스로 읽어보기\n",
    "https://wikidocs.net/\n",
    "\n",
    "요약 정리하고 1명 발표하여 내용 정리하기"
   ]
  },
  {
   "metadata": {},
   "cell_type": "markdown",
   "source": [
    "클래스로 만든 객체를 ‘인스턴스’라고도 한다. 그렇다면 객체와 인스턴스의 차이는 무엇일까? 이렇게 생각해 보자.\n",
    "\n",
    "a = Cookie()로 만든 a는 객체이다. 그리고 a 객체는 Cookie의 인스턴스이다.\n",
    "\n",
    "즉, 인스턴스라는 말은 특정 객체(a)가 어떤 클래스(Cookie)의 객체인지를 관계 위주로 설명할 때 사용한다. ‘a는 인스턴스’보다 ‘a는 객체’라는 표현이 어울리며 ‘a는 Cookie의 객체’보다 ‘a는 Cookie의 인스턴스’라는 표현이 훨씬 잘 어울린다."
   ],
   "id": "bbe05de3945c6e78"
  },
  {
   "metadata": {},
   "cell_type": "markdown",
   "source": "# 파이썬 클래스, 핵심만 제대로 익히기",
   "id": "173ac0dccbbd4832"
  },
  {
   "metadata": {},
   "cell_type": "markdown",
   "source": [
    "## 1) 객체·클래스·인스턴스\n",
    "\n",
    "객체(Object): 데이터 + 동작의 묶음\n",
    "\n",
    "클래스(Class): 객체를 만드는 설계도\n",
    "\n",
    "인스턴스(Instance): 클래스로 찍어낸 실제 객체"
   ],
   "id": "26db937857325bc6"
  },
  {
   "metadata": {
    "ExecuteTime": {
     "end_time": "2025-09-14T03:27:26.595091Z",
     "start_time": "2025-09-14T03:27:26.576270Z"
    }
   },
   "cell_type": "code",
   "source": [
    "class Dog:\n",
    "    pass\n",
    "\n",
    "d1 = Dog()  # 인스턴스 생성\n",
    "print(isinstance(d1, Dog))  # True\n"
   ],
   "id": "546a4299aedfd900",
   "outputs": [
    {
     "name": "stdout",
     "output_type": "stream",
     "text": [
      "True\n"
     ]
    }
   ],
   "execution_count": 1
  }
 ],
 "metadata": {
  "kernelspec": {
   "display_name": "Python 3",
   "language": "python",
   "name": "python3"
  },
  "language_info": {
   "codemirror_mode": {
    "name": "ipython",
    "version": 2
   },
   "file_extension": ".py",
   "mimetype": "text/x-python",
   "name": "python",
   "nbconvert_exporter": "python",
   "pygments_lexer": "ipython2",
   "version": "2.7.6"
  }
 },
 "nbformat": 4,
 "nbformat_minor": 5
}
