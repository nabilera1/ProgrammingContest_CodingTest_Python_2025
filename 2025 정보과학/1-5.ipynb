{
 "cells": [
  {
   "cell_type": "code",
   "id": "initial_id",
   "metadata": {
    "collapsed": true,
    "ExecuteTime": {
     "end_time": "2025-09-28T08:02:58.777903Z",
     "start_time": "2025-09-28T08:02:58.768486Z"
    }
   },
   "source": [
    "class Animal:\n",
    "    def sound(self):\n",
    "        return \"Some sound\"\n",
    "\n",
    "class Dog(Animal):\n",
    "    def sound(self):\n",
    "        return \"Woof!\"\n",
    "\n",
    "class Cat(Animal):\n",
    "    def sound(self):\n",
    "        return \"Meow!\"\n",
    "\n",
    "# 부모 타입으로 묶어서 사용 가능\n",
    "animals = [Dog(), Cat()]\n",
    "\n",
    "for a in animals:\n",
    "    print(a.sound())  # 각각 \"Woof!\", \"Meow!\" 출력\n"
   ],
   "outputs": [
    {
     "name": "stdout",
     "output_type": "stream",
     "text": [
      "Woof!\n",
      "Meow!\n"
     ]
    }
   ],
   "execution_count": 1
  },
  {
   "metadata": {
    "ExecuteTime": {
     "end_time": "2025-09-28T08:04:08.254811Z",
     "start_time": "2025-09-28T08:04:08.246622Z"
    }
   },
   "cell_type": "code",
   "source": [
    "class Animal:\n",
    "    def sound(self):\n",
    "        return \"Some sound\"\n",
    "\n",
    "class Dog(Animal):\n",
    "    def sound(self):\n",
    "        return \"Woof!\"\n",
    "\n",
    "class Cat(Animal):\n",
    "    def sound(self):\n",
    "        return \"Meow!\"\n",
    "\n",
    "\n",
    "d, c = Dog(), Cat()\n",
    "\n",
    "print(d.sound()) # \"Woof!\",\n",
    "print(c.sound()) # \"Meow!\" 출력\n"
   ],
   "id": "9948a6e27173da15",
   "outputs": [
    {
     "name": "stdout",
     "output_type": "stream",
     "text": [
      "Woof!\n",
      "Meow!\n"
     ]
    }
   ],
   "execution_count": 4
  },
  {
   "metadata": {},
   "cell_type": "markdown",
   "source": [
    "class MyMath:\n",
    "    @staticmethod\n",
    "    def add(a, b):\n",
    "        return a+b\n",
    "\n",
    "class MyMath:\n",
    "    def add(a, b):\n",
    "        return a+b\n",
    "\n",
    "MyMath.add = staticmethod(MyMath.add)\n",
    "\n",
    "class Person:\n",
    "    @property\n",
    "    def info(self):\n",
    "        return f\"{self.name} is {self.age} years old.\"\n",
    "\n"
   ],
   "id": "875d68d96f9b241f"
  },
  {
   "metadata": {
    "ExecuteTime": {
     "end_time": "2025-10-06T08:02:17.275169Z",
     "start_time": "2025-10-06T08:02:17.268877Z"
    }
   },
   "cell_type": "code",
   "source": [
    "class Countdown:\n",
    "    def __init__(self, n): self.n = n\n",
    "    def __iter__(self):\n",
    "        cur = self.n\n",
    "        while cur >= 0:\n",
    "            yield cur\n",
    "            cur -= 1\n",
    "\n",
    "for i in Countdown(3):\n",
    "    print(i)"
   ],
   "id": "15e11bf6f4c0bc8b",
   "outputs": [
    {
     "name": "stdout",
     "output_type": "stream",
     "text": [
      "3\n",
      "2\n",
      "1\n",
      "0\n"
     ]
    }
   ],
   "execution_count": 3
  },
  {
   "metadata": {
    "ExecuteTime": {
     "end_time": "2025-10-06T08:05:17.342878Z",
     "start_time": "2025-10-06T08:05:17.335285Z"
    }
   },
   "cell_type": "code",
   "source": [
    "class LogMixin:\n",
    "    def log(self, msg): print(\"[LOG]\", msg)\n",
    "\n",
    "class Service(LogMixin):\n",
    "    def run(self): self.log(\"start\")\n",
    "\n",
    "Service().run()\n"
   ],
   "id": "6a12d35b25718a7c",
   "outputs": [
    {
     "name": "stdout",
     "output_type": "stream",
     "text": [
      "[LOG] start\n"
     ]
    }
   ],
   "execution_count": 5
  },
  {
   "metadata": {
    "ExecuteTime": {
     "end_time": "2025-10-06T08:07:50.274841Z",
     "start_time": "2025-10-06T08:07:50.268665Z"
    }
   },
   "cell_type": "code",
   "source": [
    "class Dummy:\n",
    "    def __enter__(self):\n",
    "        print(\"enter\"); return \"OK\"\n",
    "    def __exit__(self, exc_type, exc, tb):\n",
    "        print(\"exit\")\n",
    "        return False # 예외를 전파하려면 False\n",
    "\n",
    "with Dummy() as v:\n",
    "    print(v)"
   ],
   "id": "bba76a675e97cb7a",
   "outputs": [
    {
     "name": "stdout",
     "output_type": "stream",
     "text": [
      "enter\n",
      "OK\n",
      "exit\n"
     ]
    }
   ],
   "execution_count": 8
  },
  {
   "metadata": {
    "ExecuteTime": {
     "end_time": "2025-10-06T08:09:56.119282Z",
     "start_time": "2025-10-06T08:09:56.112889Z"
    }
   },
   "cell_type": "code",
   "source": [
    "from dataclasses import dataclass\n",
    "\n",
    "@dataclass(slots=True) # 3.10+ 권장: 메모리 절약 & 속도\n",
    "class Product:\n",
    "    name: str\n",
    "    price: int\n",
    "    stock: int = 0\n",
    "\n",
    "p = Product(\"Pen\", 1200, 10)\n",
    "print(p) # Product(name='Pen', price=1200, stock=10)"
   ],
   "id": "2bc5ace7907f8118",
   "outputs": [
    {
     "name": "stdout",
     "output_type": "stream",
     "text": [
      "Product(name='Pen', price=1200, stock=10)\n"
     ]
    }
   ],
   "execution_count": 9
  },
  {
   "metadata": {},
   "cell_type": "code",
   "outputs": [],
   "execution_count": null,
   "source": "",
   "id": "34072a648e742e2e"
  }
 ],
 "metadata": {
  "kernelspec": {
   "display_name": "Python 3",
   "language": "python",
   "name": "python3"
  },
  "language_info": {
   "codemirror_mode": {
    "name": "ipython",
    "version": 2
   },
   "file_extension": ".py",
   "mimetype": "text/x-python",
   "name": "python",
   "nbconvert_exporter": "python",
   "pygments_lexer": "ipython2",
   "version": "2.7.6"
  }
 },
 "nbformat": 4,
 "nbformat_minor": 5
}
