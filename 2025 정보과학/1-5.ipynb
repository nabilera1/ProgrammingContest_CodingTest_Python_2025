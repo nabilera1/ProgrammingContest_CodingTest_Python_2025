{
 "cells": [
  {
   "cell_type": "code",
   "id": "initial_id",
   "metadata": {
    "collapsed": true,
    "ExecuteTime": {
     "end_time": "2025-09-28T08:02:58.777903Z",
     "start_time": "2025-09-28T08:02:58.768486Z"
    }
   },
   "source": [
    "class Animal:\n",
    "    def sound(self):\n",
    "        return \"Some sound\"\n",
    "\n",
    "class Dog(Animal):\n",
    "    def sound(self):\n",
    "        return \"Woof!\"\n",
    "\n",
    "class Cat(Animal):\n",
    "    def sound(self):\n",
    "        return \"Meow!\"\n",
    "\n",
    "# 부모 타입으로 묶어서 사용 가능\n",
    "animals = [Dog(), Cat()]\n",
    "\n",
    "for a in animals:\n",
    "    print(a.sound())  # 각각 \"Woof!\", \"Meow!\" 출력\n"
   ],
   "outputs": [
    {
     "name": "stdout",
     "output_type": "stream",
     "text": [
      "Woof!\n",
      "Meow!\n"
     ]
    }
   ],
   "execution_count": 1
  },
  {
   "metadata": {
    "ExecuteTime": {
     "end_time": "2025-09-28T08:04:08.254811Z",
     "start_time": "2025-09-28T08:04:08.246622Z"
    }
   },
   "cell_type": "code",
   "source": [
    "class Animal:\n",
    "    def sound(self):\n",
    "        return \"Some sound\"\n",
    "\n",
    "class Dog(Animal):\n",
    "    def sound(self):\n",
    "        return \"Woof!\"\n",
    "\n",
    "class Cat(Animal):\n",
    "    def sound(self):\n",
    "        return \"Meow!\"\n",
    "\n",
    "\n",
    "d, c = Dog(), Cat()\n",
    "\n",
    "print(d.sound()) # \"Woof!\",\n",
    "print(c.sound()) # \"Meow!\" 출력\n"
   ],
   "id": "9948a6e27173da15",
   "outputs": [
    {
     "name": "stdout",
     "output_type": "stream",
     "text": [
      "Woof!\n",
      "Meow!\n"
     ]
    }
   ],
   "execution_count": 4
  },
  {
   "metadata": {},
   "cell_type": "code",
   "outputs": [],
   "execution_count": null,
   "source": "",
   "id": "d940fc63264f6fa0"
  }
 ],
 "metadata": {
  "kernelspec": {
   "display_name": "Python 3",
   "language": "python",
   "name": "python3"
  },
  "language_info": {
   "codemirror_mode": {
    "name": "ipython",
    "version": 2
   },
   "file_extension": ".py",
   "mimetype": "text/x-python",
   "name": "python",
   "nbconvert_exporter": "python",
   "pygments_lexer": "ipython2",
   "version": "2.7.6"
  }
 },
 "nbformat": 4,
 "nbformat_minor": 5
}
